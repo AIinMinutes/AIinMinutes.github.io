{
  "cells": [
    {
      "cell_type": "markdown",
      "id": "e180e609",
      "metadata": {},
      "source": [
        "# **Correspondence Analysis**"
      ]
    },
    {
      "cell_type": "code",
      "execution_count": null,
      "id": "4126aa9f-475a-4188-a058-6346971882ea",
      "metadata": {},
      "outputs": [],
      "source": [
        "import prince\n",
        "\n",
        "dataset = prince.datasets.load_premier_league()\n",
        "dataset = dataset.loc[:, ['2023-24']]\n",
        "dataset.columns = dataset.columns.droplevel(0)\n",
        "dataset.columns = [\n",
        "    \"Wins\", \"Draws\", \"Losses\",\n",
        "            \"Goals\", \"Conceded\", \"Points\"\n",
        "]\n",
        "dataset.columns.name = 'Result'\n",
        "dataset.sample(4, random_state=47)"
      ]
    },
    {
      "cell_type": "code",
      "execution_count": null,
      "id": "7b9de65f-75be-433f-95f9-1d1118d1f2ec",
      "metadata": {},
      "outputs": [],
      "source": [
        "ca = prince.CA(\n",
        "    n_components=2, n_iter=100,\n",
        "    copy=True, check_input=True,\n",
        "    engine='sklearn', random_state=47\n",
        ")\n",
        "\n",
        "ca.fit(dataset)"
      ]
    },
    {
      "cell_type": "code",
      "execution_count": null,
      "id": "5e1002d7-5978-4b45-b9b4-46dc2db98f83",
      "metadata": {},
      "outputs": [],
      "source": [
        "ca.eigenvalues_summary"
      ]
    },
    {
      "cell_type": "code",
      "execution_count": null,
      "id": "e3ad7c11-e8d7-4558-b7b3-dcabb069ff1a",
      "metadata": {},
      "outputs": [],
      "source": [
        "ca.row_coordinates(dataset).sample(2)"
      ]
    },
    {
      "cell_type": "code",
      "execution_count": null,
      "id": "68181894-eb2f-4c20-83a9-fe753a330844",
      "metadata": {},
      "outputs": [],
      "source": [
        "ca.column_coordinates(dataset).sample(2)"
      ]
    },
    {
      "cell_type": "code",
      "execution_count": null,
      "id": "39367069-4cfb-4b4b-8996-178f91202775",
      "metadata": {},
      "outputs": [],
      "source": [
        "chart = ca.plot(\n",
        "    dataset,\n",
        "    x_component=0,\n",
        "    y_component=1,\n",
        "    show_row_markers=True,\n",
        "    show_column_markers=True,\n",
        "    show_row_labels=True,\n",
        "    show_column_labels=True\n",
        ")\n",
        "\n",
        "chart = chart.properties(\n",
        "    width=400,\n",
        "    height=300,\n",
        ")\n",
        "\n",
        "chart\n",
        "\n",
        "# chart.save('correspondence_analysis.png', ppi=300)"
      ]
    },
    {
      "cell_type": "code",
      "execution_count": null,
      "id": "ff893ce5-371d-40c6-a0da-5510a4fa16eb",
      "metadata": {},
      "outputs": [],
      "source": []
    }
  ],
  "metadata": {
    "kernelspec": {
      "display_name": "book",
      "language": "python",
      "name": "python3"
    },
    "language_info": {
      "codemirror_mode": {
        "name": "ipython",
        "version": 3
      },
      "file_extension": ".py",
      "mimetype": "text/x-python",
      "name": "python",
      "nbconvert_exporter": "python",
      "pygments_lexer": "ipython3",
      "version": "3.10.16"
    }
  },
  "nbformat": 4,
  "nbformat_minor": 5
}
