{
  "cells": [
    {
      "cell_type": "markdown",
      "id": "1f33f7da",
      "metadata": {},
      "source": [
        "# Cramér's V\n",
        "\n",
        "## Chi-Square Statistic\n",
        "The Chi-Square statistic is a measure used to determine whether there is a significant association between two categorical variables. It is calculated by comparing the observed frequencies in each category of a contingency table with the frequencies that would be expected if there were no association between the variables.\n",
        "\n",
        "### Formula\n",
        "The Chi-Square statistic ($\\chi^2$) is calculated as:\n",
        "\n",
        "$$\n",
        "\\chi^2 = \\sum \\frac{(O_i - E_i)^2}{E_i}\n",
        "$$\n",
        "\n",
        "Where:\n",
        "- $O_i$ = Observed frequency for category $i$\n",
        "- $E_i$ = Expected frequency for category $i$\n",
        "\n",
        "### Degrees of Freedom\n",
        "The degrees of freedom (df) for a Chi-Square test is calculated as:\n",
        "\n",
        "$$\n",
        "df = (r - 1) \\times (c - 1)\n",
        "$$\n",
        "\n",
        "Where:\n",
        "- $r$ = Number of rows in the contingency table\n",
        "- $c$ = Number of columns in the contingency table\n",
        "\n",
        "## Cramér's V\n",
        "Cramér's V is a measure of association between two nominal variables based on the Chi-Square statistic. It provides a normalized value between 0 and 1, which helps in interpreting the strength of the relationship between the variables.\n",
        "\n",
        "### Formula\n",
        "Cramér's V is calculated as:\n",
        "\n",
        "$$\n",
        "V = \\sqrt{\\frac{\\chi^2}{n \\cdot \\min(k - 1, r - 1)}}\n",
        "$$\n",
        "\n",
        "Where:\n",
        "- $\\chi^2$ = Chi-Square statistic\n",
        "- $n$ = Total number of observations\n",
        "- $k$ = Number of categories in the column variable\n",
        "- $r$ = Number of categories in the row variable\n",
        "\n",
        "### Interpretation of Cramér's V\n",
        "- **0.00 - 0.10**: Weak association\n",
        "- **0.11 - 0.30**: Moderate association\n",
        "- **0.31 - 0.50**: Strong association\n",
        "- **0.51 - 0.70**: Very strong association\n",
        "- **0.71 - 1.00**: Almost perfect association"
      ]
    },
    {
      "cell_type": "code",
      "execution_count": null,
      "id": "f951da1e-1783-4207-9ce3-1e0323a71e73",
      "metadata": {},
      "outputs": [],
      "source": [
        "import numpy as np\n",
        "import pandas as pd\n",
        "import seaborn as sns\n",
        "import matplotlib.pyplot as plt\n",
        "from scipy.stats import chi2_contingency\n",
        "\n",
        "data = [('Data Scientist', 'Action', 50), ('Data Scientist', 'Comedy', 20),\n",
        "('Data Scientist', 'Drama', 5), ('ML Engineer', 'Action', 5),\n",
        "('ML Engineer', 'Comedy', 20), ('ML Engineer', 'Drama', 50),\n",
        "('GenAI Developer', 'Action', 5), ('GenAI Developer', 'Comedy', 50),\n",
        "('GenAI Developer', 'Drama', 20)]\n",
        "\n",
        "df = pd.DataFrame(data, columns=['Role', 'Movie Genre', 'Count'])"
      ]
    },
    {
      "cell_type": "code",
      "execution_count": null,
      "id": "a1d6f167-f5a1-46e2-978d-cd2ce49c63d1",
      "metadata": {},
      "outputs": [],
      "source": [
        "# Create a contingency dataframe \n",
        "contingency_df = df.pivot(index='Movie Genre', columns='Role', \n",
        "                          values='Count')\n",
        "contingency_df"
      ]
    },
    {
      "cell_type": "code",
      "execution_count": null,
      "id": "94650616-e225-4df7-9736-04ca04eaba71",
      "metadata": {},
      "outputs": [],
      "source": [
        "plt.style.use('dark_background')\n",
        "plt.figure(figsize=(4, 4), dpi=300)\n",
        "sns.heatmap(contingency_df, annot=True, fmt='d', cmap='Spectral', \n",
        "            cbar_kws={'label': 'Count', 'ticks': [*range(0, 51, 5)]}, \n",
        "            linecolor='white', linewidths=1)\n",
        "plt.title('Contingency Table of Movie Genre Preference by Role', fontsize=16)\n",
        "plt.xlabel('Role', fontsize=14)\n",
        "plt.ylabel('Movie Genre', fontsize=14)\n",
        "plt.xticks(rotation=45, ha='right', fontsize=12)\n",
        "plt.yticks(fontsize=12)\n",
        "plt.tight_layout()\n",
        "plt.show()"
      ]
    },
    {
      "cell_type": "code",
      "execution_count": null,
      "id": "53d676c3-36c1-4682-992e-de3f72a608b9",
      "metadata": {},
      "outputs": [],
      "source": [
        "# Perform Chi-Square test\n",
        "chi2_stat, p_val, dof, expected = chi2_contingency(\n",
        "    contingency_df\n",
        ")\n",
        "\n",
        "# Display results\n",
        "print(f\"Chi-Square Statistic: {chi2_stat:.2f}\")\n",
        "print(f\"P-value: {p_val:.4f}\")"
      ]
    },
    {
      "cell_type": "code",
      "execution_count": null,
      "id": "6a10ea6a-701c-43b7-9f8d-196b4a433a66",
      "metadata": {},
      "outputs": [],
      "source": [
        "# Calculate Cramér's V\n",
        "n = contingency_df.sum().sum()  # Total number of observations\n",
        "cramers_v = np.sqrt(\n",
        "    chi2_stat / (n * (min(contingency_df.shape) - 1))\n",
        ")\n",
        "\n",
        "print(f\"Degrees of Freedom: {dof}\")\n",
        "print(f\"Cramér's V: {cramers_v:.4f}\")"
      ]
    },
    {
      "cell_type": "markdown",
      "id": "a5ea0974-5af3-485c-bfa4-f5f05e6cc7cc",
      "metadata": {},
      "source": [
        "As you can see, the p-value for the Chi-Square test statistic is less than 0.005; hence, there is a statistically significant association between the role and the movie genre. In fact, since Cramér's V value for the statistic is greater than 0.5, the association is considered quite strong."
      ]
    }
  ],
  "metadata": {
    "kernelspec": {
      "display_name": "book",
      "language": "python",
      "name": "python3"
    },
    "language_info": {
      "codemirror_mode": {
        "name": "ipython",
        "version": 3
      },
      "file_extension": ".py",
      "mimetype": "text/x-python",
      "name": "python",
      "nbconvert_exporter": "python",
      "pygments_lexer": "ipython3",
      "version": "3.10.16"
    }
  },
  "nbformat": 4,
  "nbformat_minor": 5
}
