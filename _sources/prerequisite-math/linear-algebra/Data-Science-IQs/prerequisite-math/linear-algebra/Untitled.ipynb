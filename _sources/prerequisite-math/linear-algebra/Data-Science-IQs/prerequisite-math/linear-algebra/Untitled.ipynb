{
  "cells": [
    {
      "cell_type": "markdown",
      "id": "bfcf9c17-6efb-48ba-ada8-9df632dc794a",
      "metadata": {},
      "source": [
        "<h1 style=\"font-weight: bold; background: linear-gradient(to right, teal, skyblue); -webkit-background-clip: text; color: transparent;\"> Understanding Systems of Linear Equations with Real-World Analogies\n",
        "</h1>\n",
        "\n",
        "<h2 style=\"font-weight: bold; background: linear-gradient(to right, magenta, cyan); -webkit-background-clip: text; color: transparent;\\\"> Introduction\n",
        "</h2>\n",
        "\n",
        "Linear equations form the backbone of many mathematical and practical applications. However, their abstract representation often creates a barrier to understanding. In this notebook, we use a relatable analogy of apples, bananas, and their pricing to intuitively understand systems of linear equations, using proper vector and matrix notations.\n",
        "\n",
        "---\n",
        "\n",
        "<h2 style=\"font-weight: bold; background: linear-gradient(to right, magenta, cyan); -webkit-background-clip: text; color: transparent;\\\"> Vector Representation of Quantities\n",
        "</h2>\n",
        "\n",
        "A **2D coordinate system** helps track two distinct quantities simultaneously:  \n",
        "- $x$: Number of apples.  \n",
        "- $y$: Number of bananas.  \n",
        "\n",
        "Using **vector notation**, we represent these quantities as:  \n",
        "$$\n",
        "\\mathbf{v}_\\text{apple} = \\begin{bmatrix} 1 \\\\ 0 \\end{bmatrix}, \\quad\n",
        "\\mathbf{v}_\\text{banana} = \\begin{bmatrix} 0 \\\\ 1 \\end{bmatrix}, \\quad\n",
        "\\mathbf{v}_\\text{combo} = \\begin{bmatrix} 1 \\\\ 1 \\end{bmatrix}.\n",
        "$$  \n",
        "Here:  \n",
        "- $\\mathbf{v}_\\text{apple}$ represents one unit of apple.  \n",
        "- $\\mathbf{v}_\\text{banana}$ represents one unit of banana.  \n",
        "- $\\mathbf{v}_\\text{combo}$ represents one unit of apple and one unit of banana.  \n",
        "\n",
        "This allows us to visually and mathematically track quantities.\n",
        "\n",
        "---\n",
        "\n",
        "<h2 style=\"font-weight: bold; background: linear-gradient(to right, magenta, cyan); -webkit-background-clip: text; color: transparent;\\\"> The Vendor\u2019s Combo\n",
        "</h2>\n",
        "\n",
        "Imagine a fruit vendor selling a combo where the number of apples is **twice** the number of bananas. Mathematically, this relationship can be represented as:  \n",
        "$$\n",
        "y = \\frac{1}{2}x.\n",
        "$$  \n",
        "In vector form, each combo lies on the line defined by:  \n",
        "$$\n",
        "\\mathbf{v}_\\text{combo} = \\alpha \\begin{bmatrix} 2 \\\\ 1 \\end{bmatrix}, \\quad \\alpha \\in \\mathbb{R}.\n",
        "$$  \n",
        "Here, the line passes through $\\begin{bmatrix} 0 \\\\ 0 \\end{bmatrix}$ and $\\begin{bmatrix} 2 \\\\ 1 \\end{bmatrix}$, indicating all valid combinations of apples and bananas offered by the vendor.\n",
        "\n",
        "---\n",
        "\n",
        "<h2 style=\"font-weight: bold; background: linear-gradient(to right, magenta, cyan); -webkit-background-clip: text; color: transparent;\\\"> Introducing Prices\n",
        "</h2>\n",
        "\n",
        "While apples and bananas are distinct quantities, their **prices** allow for a scalar representation of value. Let:  \n",
        "- $x_1$: Price per apple.  \n",
        "- $x_2$: Price per banana.  \n",
        "\n",
        "For any combination of apples ($a_1$) and bananas ($b_1$), the total price is:  \n",
        "$$\n",
        "c_1 = a_1 x_1 + b_1 x_2.\n",
        "$$  \n",
        "This scalar quantity summarizes the contribution of each fruit\u2019s price to the total.\n",
        "\n",
        "---\n",
        "\n",
        "<h2 style=\"font-weight: bold; background: linear-gradient(to right, magenta, cyan); -webkit-background-clip: text; color: transparent;\\\"> Matrix Representation of Total Cost\n",
        "</h2>\n",
        "\n",
        "Consider two scenarios:  \n",
        "1. $a_1$ apples and $b_1$ bananas sold at price $c_1$.  \n",
        "2. $a_2$ apples and $b_2$ bananas sold at price $c_2$.  \n",
        "\n",
        "In matrix form, these scenarios can be expressed as:  \n",
        "$$\n",
        "\\begin{bmatrix} x_1 & x_2 \\end{bmatrix}  \n",
        "\\begin{bmatrix} a_1 & a_2 \\\\ b_1 & b_2 \\end{bmatrix}  \n",
        "= \\begin{bmatrix} c_1 & c_2 \\end{bmatrix}.\n",
        "$$  \n",
        "Here:  \n",
        "- $\\begin{bmatrix} x_1 & x_2 \\end{bmatrix}$: Row vector of unknown prices.  \n",
        "- $\\begin{bmatrix} a_1 & a_2 \\\\ b_1 & b_2 \\end{bmatrix}$: Matrix of quantities.  \n",
        "- $\\begin{bmatrix} c_1 & c_2 \\end{bmatrix}$: Row vector of total prices.\n",
        "\n",
        "---\n",
        "\n",
        "<h2 style=\"font-weight: bold; background: linear-gradient(to right, magenta, cyan); -webkit-background-clip: text; color: transparent;\\\"> Row-Vector Equation Format\n",
        "</h2>\n",
        "\n",
        "For clarity, let:  \n",
        "$$\n",
        "\\mathbf{x}_\\text{row} = \\begin{bmatrix} x_1 & x_2 \\end{bmatrix}, \\quad\n",
        "\\mathbf{A} = \\begin{bmatrix} a_1 & a_2 \\\\ b_1 & b_2 \\end{bmatrix}, \\quad\n",
        "\\mathbf{c}_\\text{row} = \\begin{bmatrix} c_1 & c_2 \\end{bmatrix}.\n",
        "$$  \n",
        "\n",
        "The relationship is then compactly written as:  \n",
        "$$\n",
        "\\mathbf{x}_\\text{row} \\cdot \\mathbf{A} = \\mathbf{c}_\\text{row}.\n",
        "$$  \n",
        "This is the row-vector equation format that succinctly expresses the system of linear equations.\n",
        "\n",
        "In fact, if $\\mathbf{x}_\\text{row}$ is unknown, it can be computed by the following expression:\n",
        "$$\n",
        "\\mathbf{x}_\\text{row} = \\mathbf{c}_\\text{row} \\cdot \\mathbf{A^{-1}}\n",
        "$$  \n",
        "\n",
        "---\n",
        "\n",
        "<h2 style=\"font-weight: bold; background: linear-gradient(to right, magenta, cyan); -webkit-background-clip: text; color: transparent;\\\"> Conclusion\n",
        "</h2>\n",
        "\n",
        "This analogy simplifies the concept of linear equations by linking them to tangible, everyday scenarios. By moving from vector representations of quantities to scalar representations of price, we gain an intuitive understanding of how matrices capture relationships between variables. The row-vector equation format provides a concise, elegant expression of these relationships, making it easier to extend to more complex systems in practical applications.\n"
      ]
    },
    {
      "cell_type": "code",
      "execution_count": 1,
      "id": "b89c81e6-8fec-464c-a759-778e77280565",
      "metadata": {},
      "outputs": [],
      "source": [
        "import numpy as np"
      ]
    },
    {
      "cell_type": "code",
      "execution_count": 2,
      "id": "edc7cf53-b09f-4ed3-a56d-b675e16f6f48",
      "metadata": {},
      "outputs": [],
      "source": [
        "c = np.array([20, 10])\n",
        "A = np.array([[2, 3], [4, 1]])"
      ]
    },
    {
      "cell_type": "code",
      "execution_count": 3,
      "id": "48f35eaa-9217-4e6a-880e-e4904b36e00f",
      "metadata": {},
      "outputs": [],
      "source": [
        "x = c @ np.linalg.inv(A)"
      ]
    },
    {
      "cell_type": "code",
      "execution_count": 4,
      "id": "50cfe97e-4d8b-428f-9c48-a85a2cc94437",
      "metadata": {},
      "outputs": [
        {
          "data": {
            "text/plain": [
              "array([2., 4.])"
            ]
          },
          "execution_count": 4,
          "metadata": {},
          "output_type": "execute_result"
        }
      ],
      "source": [
        "x"
      ]
    },
    {
      "cell_type": "code",
      "execution_count": null,
      "id": "c1ba8b06-7fee-455c-abed-cf9dfe44fe75",
      "metadata": {},
      "outputs": [],
      "source": []
    }
  ],
  "metadata": {
    "kernelspec": {
      "display_name": "Python (book)",
      "language": "python",
      "name": "book_env"
    },
    "language_info": {
      "codemirror_mode": {
        "name": "ipython",
        "version": 3
      },
      "file_extension": ".py",
      "mimetype": "text/x-python",
      "name": "python",
      "nbconvert_exporter": "python",
      "pygments_lexer": "ipython3",
      "version": "3.12.7"
    }
  },
  "nbformat": 4,
  "nbformat_minor": 5
}